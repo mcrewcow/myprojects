{
  "nbformat": 4,
  "nbformat_minor": 0,
  "metadata": {
    "colab": {
      "name": "skillbox11.ipynb",
      "provenance": [],
      "authorship_tag": "ABX9TyOMYnNI5HN59qcxaWzsCGFP",
      "include_colab_link": true
    },
    "kernelspec": {
      "name": "python3",
      "display_name": "Python 3"
    },
    "language_info": {
      "name": "python"
    }
  },
  "cells": [
    {
      "cell_type": "markdown",
      "metadata": {
        "id": "view-in-github",
        "colab_type": "text"
      },
      "source": [
        "<a href=\"https://colab.research.google.com/github/mcrewcow/myprojects/blob/main/skillbox11lastwork.ipynb\" target=\"_parent\"><img src=\"https://colab.research.google.com/assets/colab-badge.svg\" alt=\"Open In Colab\"/></a>"
      ]
    },
    {
      "cell_type": "code",
      "metadata": {
        "id": "pZLUHCri0q3_"
      },
      "source": [
        "from sympy import *\n",
        "import numpy as np"
      ],
      "execution_count": null,
      "outputs": []
    },
    {
      "cell_type": "code",
      "metadata": {
        "colab": {
          "base_uri": "https://localhost:8080/",
          "height": 58
        },
        "id": "xlON36zu0vV_",
        "outputId": "c9c10cc0-a9a5-4fae-8943-e5cfee28935d"
      },
      "source": [
        "A = Matrix([[2,3],[0,1]])\n",
        "A"
      ],
      "execution_count": null,
      "outputs": [
        {
          "output_type": "execute_result",
          "data": {
            "text/latex": "$\\displaystyle \\left[\\begin{matrix}2 & 3\\\\0 & 1\\end{matrix}\\right]$",
            "text/plain": [
              "Matrix([\n",
              "[2, 3],\n",
              "[0, 1]])"
            ]
          },
          "metadata": {
            "tags": []
          },
          "execution_count": 24
        }
      ]
    },
    {
      "cell_type": "code",
      "metadata": {
        "colab": {
          "base_uri": "https://localhost:8080/",
          "height": 58
        },
        "id": "mrVtHhkC138C",
        "outputId": "dd1f99a1-0284-4c6a-ac44-05153cd07c65"
      },
      "source": [
        "x1,x2 = symbols('x1,x2')\n",
        "X = Matrix([x1,x2])\n",
        "X"
      ],
      "execution_count": null,
      "outputs": [
        {
          "output_type": "execute_result",
          "data": {
            "text/latex": "$\\displaystyle \\left[\\begin{matrix}x_{1}\\\\x_{2}\\end{matrix}\\right]$",
            "text/plain": [
              "Matrix([\n",
              "[x1],\n",
              "[x2]])"
            ]
          },
          "metadata": {
            "tags": []
          },
          "execution_count": 6
        }
      ]
    },
    {
      "cell_type": "code",
      "metadata": {
        "colab": {
          "base_uri": "https://localhost:8080/",
          "height": 58
        },
        "id": "YHSARqt-2C3K",
        "outputId": "cbf1ed46-4e9d-4cfe-eac7-83cc63a6c786"
      },
      "source": [
        "b = Matrix([2,4])\n",
        "b"
      ],
      "execution_count": null,
      "outputs": [
        {
          "output_type": "execute_result",
          "data": {
            "text/latex": "$\\displaystyle \\left[\\begin{matrix}2\\\\4\\end{matrix}\\right]$",
            "text/plain": [
              "Matrix([\n",
              "[2],\n",
              "[4]])"
            ]
          },
          "metadata": {
            "tags": []
          },
          "execution_count": 7
        }
      ]
    },
    {
      "cell_type": "code",
      "metadata": {
        "colab": {
          "base_uri": "https://localhost:8080/",
          "height": 51
        },
        "id": "n9nBjdQB2L8r",
        "outputId": "9cb047cd-dcb0-4547-a063-960393b63f02"
      },
      "source": [
        "m = 1 / A.det()\n",
        "m"
      ],
      "execution_count": null,
      "outputs": [
        {
          "output_type": "execute_result",
          "data": {
            "text/latex": "$\\displaystyle \\frac{1}{2}$",
            "text/plain": [
              "1/2"
            ]
          },
          "metadata": {
            "tags": []
          },
          "execution_count": 27
        }
      ]
    },
    {
      "cell_type": "code",
      "metadata": {
        "colab": {
          "base_uri": "https://localhost:8080/",
          "height": 58
        },
        "id": "q7evVVXP2SnI",
        "outputId": "69c72b8f-0170-4575-9858-ab594486423f"
      },
      "source": [
        "m * A.T * b"
      ],
      "execution_count": null,
      "outputs": [
        {
          "output_type": "execute_result",
          "data": {
            "text/latex": "$\\displaystyle \\left[\\begin{matrix}2\\\\5\\end{matrix}\\right]$",
            "text/plain": [
              "Matrix([\n",
              "[2],\n",
              "[5]])"
            ]
          },
          "metadata": {
            "tags": []
          },
          "execution_count": 28
        }
      ]
    },
    {
      "cell_type": "code",
      "metadata": {
        "id": "shGJ-ciO3LfO",
        "colab": {
          "base_uri": "https://localhost:8080/",
          "height": 98
        },
        "outputId": "335bc74a-10c2-479c-fa07-606c35e3f196"
      },
      "source": [
        "A = Matrix([[1,2],[5,3],[2,4],[3,7]])\n",
        "A"
      ],
      "execution_count": null,
      "outputs": [
        {
          "output_type": "execute_result",
          "data": {
            "text/latex": "$\\displaystyle \\left[\\begin{matrix}1 & 2\\\\5 & 3\\\\2 & 4\\\\3 & 7\\end{matrix}\\right]$",
            "text/plain": [
              "Matrix([\n",
              "[1, 2],\n",
              "[5, 3],\n",
              "[2, 4],\n",
              "[3, 7]])"
            ]
          },
          "metadata": {
            "tags": []
          },
          "execution_count": 29
        }
      ]
    },
    {
      "cell_type": "code",
      "metadata": {
        "id": "9dGKO3066L2Y"
      },
      "source": [
        "a1,a2 = symbols('a1,a2')"
      ],
      "execution_count": null,
      "outputs": []
    },
    {
      "cell_type": "code",
      "metadata": {
        "colab": {
          "base_uri": "https://localhost:8080/",
          "height": 58
        },
        "id": "okEW2bed6NpP",
        "outputId": "229634bc-8119-41fe-b2fc-008c17d6216e"
      },
      "source": [
        "X = Matrix([a1,a2])\n",
        "X"
      ],
      "execution_count": null,
      "outputs": [
        {
          "output_type": "execute_result",
          "data": {
            "text/latex": "$\\displaystyle \\left[\\begin{matrix}a_{1}\\\\a_{2}\\end{matrix}\\right]$",
            "text/plain": [
              "Matrix([\n",
              "[a1],\n",
              "[a2]])"
            ]
          },
          "metadata": {
            "tags": []
          },
          "execution_count": 31
        }
      ]
    },
    {
      "cell_type": "code",
      "metadata": {
        "colab": {
          "base_uri": "https://localhost:8080/",
          "height": 98
        },
        "id": "IHq7at4e6QIZ",
        "outputId": "70de8a5b-0cc0-4e7a-cb01-4fc91ba6926b"
      },
      "source": [
        "b = Matrix([5,6,10,8])\n",
        "b"
      ],
      "execution_count": null,
      "outputs": [
        {
          "output_type": "execute_result",
          "data": {
            "text/latex": "$\\displaystyle \\left[\\begin{matrix}5\\\\6\\\\10\\\\8\\end{matrix}\\right]$",
            "text/plain": [
              "Matrix([\n",
              "[ 5],\n",
              "[ 6],\n",
              "[10],\n",
              "[ 8]])"
            ]
          },
          "metadata": {
            "tags": []
          },
          "execution_count": 33
        }
      ]
    },
    {
      "cell_type": "code",
      "metadata": {
        "colab": {
          "base_uri": "https://localhost:8080/",
          "height": 58
        },
        "id": "pmxGtDhQ6Umm",
        "outputId": "d8923aed-902d-4616-81a9-a7af7d66777d"
      },
      "source": [
        "mul = A.T * A\n",
        "mul"
      ],
      "execution_count": null,
      "outputs": [
        {
          "output_type": "execute_result",
          "data": {
            "text/latex": "$\\displaystyle \\left[\\begin{matrix}39 & 46\\\\46 & 78\\end{matrix}\\right]$",
            "text/plain": [
              "Matrix([\n",
              "[39, 46],\n",
              "[46, 78]])"
            ]
          },
          "metadata": {
            "tags": []
          },
          "execution_count": 35
        }
      ]
    },
    {
      "cell_type": "code",
      "metadata": {
        "colab": {
          "base_uri": "https://localhost:8080/",
          "height": 37
        },
        "id": "svf00FhV6bmA",
        "outputId": "c552f3fa-5694-4177-cedf-debbcd59eccf"
      },
      "source": [
        "mul.det()"
      ],
      "execution_count": null,
      "outputs": [
        {
          "output_type": "execute_result",
          "data": {
            "text/latex": "$\\displaystyle 926$",
            "text/plain": [
              "926"
            ]
          },
          "metadata": {
            "tags": []
          },
          "execution_count": 36
        }
      ]
    },
    {
      "cell_type": "code",
      "metadata": {
        "colab": {
          "base_uri": "https://localhost:8080/",
          "height": 58
        },
        "id": "NGjX2Ko56f_u",
        "outputId": "f17fc819-d407-4435-8bb5-0bc89be1335d"
      },
      "source": [
        "ps = (A.T * A) ** (-1) * A.T\n",
        "ps"
      ],
      "execution_count": null,
      "outputs": [
        {
          "output_type": "execute_result",
          "data": {
            "text/latex": "$\\displaystyle \\left[\\begin{matrix}- \\frac{7}{463} & \\frac{126}{463} & - \\frac{14}{463} & - \\frac{44}{463}\\\\\\frac{16}{463} & - \\frac{113}{926} & \\frac{32}{463} & \\frac{135}{926}\\end{matrix}\\right]$",
            "text/plain": [
              "Matrix([\n",
              "[-7/463,  126/463, -14/463, -44/463],\n",
              "[16/463, -113/926,  32/463, 135/926]])"
            ]
          },
          "metadata": {
            "tags": []
          },
          "execution_count": 38
        }
      ]
    },
    {
      "cell_type": "code",
      "metadata": {
        "colab": {
          "base_uri": "https://localhost:8080/",
          "height": 58
        },
        "id": "CqYuLBua6n6E",
        "outputId": "31eedb41-6527-4dfb-a446-183db988a2e3"
      },
      "source": [
        "best_point = ps * b\n",
        "best_point"
      ],
      "execution_count": null,
      "outputs": [
        {
          "output_type": "execute_result",
          "data": {
            "text/latex": "$\\displaystyle \\left[\\begin{matrix}\\frac{229}{463}\\\\\\frac{601}{463}\\end{matrix}\\right]$",
            "text/plain": [
              "Matrix([\n",
              "[229/463],\n",
              "[601/463]])"
            ]
          },
          "metadata": {
            "tags": []
          },
          "execution_count": 40
        }
      ]
    },
    {
      "cell_type": "code",
      "metadata": {
        "colab": {
          "base_uri": "https://localhost:8080/",
          "height": 37
        },
        "id": "xzg1Xsev6xqC",
        "outputId": "11159f06-d539-4906-cd72-64cd02afcfce"
      },
      "source": [
        "MSE = 1/4*((1*a1 + 2*a2 - 5)**2 + (5*a1 + 3*a2 - 6)**2 + (2*a1 + 4*a2 - 10)**2 + (3*a1 + 7*a2 - 8)**2)\n",
        "MSE.subs({a1:0,a2:0})"
      ],
      "execution_count": null,
      "outputs": [
        {
          "output_type": "execute_result",
          "data": {
            "text/latex": "$\\displaystyle 56.25$",
            "text/plain": [
              "56.2500000000000"
            ]
          },
          "metadata": {
            "tags": []
          },
          "execution_count": 41
        }
      ]
    },
    {
      "cell_type": "code",
      "metadata": {
        "colab": {
          "base_uri": "https://localhost:8080/",
          "height": 37
        },
        "id": "vAcy1tIZ7D8c",
        "outputId": "ca0e1bf8-318b-4621-d473-9f52290b4bc0"
      },
      "source": [
        "MSE.subs({a1:best_point[0],a2:best_point[1]})"
      ],
      "execution_count": null,
      "outputs": [
        {
          "output_type": "execute_result",
          "data": {
            "text/latex": "$\\displaystyle 6.24190064794816$",
            "text/plain": [
              "6.24190064794816"
            ]
          },
          "metadata": {
            "tags": []
          },
          "execution_count": 42
        }
      ]
    },
    {
      "cell_type": "code",
      "metadata": {
        "id": "NtwzsSPw7J8T"
      },
      "source": [
        ""
      ],
      "execution_count": null,
      "outputs": []
    }
  ]
}